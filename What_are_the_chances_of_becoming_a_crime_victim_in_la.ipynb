{
 "cells": [
  {
   "cell_type": "markdown",
   "metadata": {},
   "source": [
    "# Importing Data"
   ]
  },
  {
   "cell_type": "code",
   "execution_count": 1,
   "metadata": {},
   "outputs": [],
   "source": [
    "# import libraries\n",
    "import os\n",
    "import pandas as pd\n",
    "import numpy as np\n",
    "import seaborn as sns\n",
    "import plotly.express as px\n",
    "from pywaffle import Waffle \n",
    "from scipy.stats import norm\n",
    "from datetime import datetime\n",
    "import matplotlib.pyplot as plt"
   ]
  },
  {
   "cell_type": "code",
   "execution_count": 2,
   "metadata": {},
   "outputs": [],
   "source": [
    "# import 2010-2019 csv dataset\n",
    "pwd = os.getcwd()\n",
    "filepath = pwd + \"/Crime_Data_from_2010_to_2019.csv\"\n",
    "df = pd.read_csv(filepath)"
   ]
  },
  {
   "cell_type": "code",
   "execution_count": 3,
   "metadata": {},
   "outputs": [],
   "source": [
    "# import 2020-present csv dataset\n",
    "pwd = os.getcwd()\n",
    "filepath = pwd + \"/Crime_Data_from_2020_to_Present.csv\"\n",
    "df_1 = pd.read_csv(filepath)"
   ]
  },
  {
   "cell_type": "code",
   "execution_count": 4,
   "metadata": {},
   "outputs": [],
   "source": [
    "# concat both datasets \n",
    "df = pd.concat([df, df_1])"
   ]
  },
  {
   "cell_type": "markdown",
   "metadata": {},
   "source": [
    "# Data Cleaning "
   ]
  },
  {
   "cell_type": "code",
   "execution_count": 5,
   "metadata": {},
   "outputs": [],
   "source": [
    "# drop irrelevant columns\n",
    "df = df.drop([\"DR_NO\", \"AREA\", \"Rpt Dist No\", \"Part 1-2\", \"Crm Cd\", \"Cross Street\", \n",
    "        \"Mocodes\", \"Premis Cd\", \"Weapon Used Cd\", \"Status\", \"Status Desc\", \n",
    "        \"Crm Cd 1\", \"Crm Cd 2\", \"Crm Cd 3\", \"Crm Cd 4\"], axis=1)"
   ]
  },
  {
   "cell_type": "code",
   "execution_count": 6,
   "metadata": {},
   "outputs": [],
   "source": [
    "# rename columns\n",
    "df = df.rename(columns={\"Date Rptd\": \"Date Reported\", \"DATE OCC\": \"Date Occured\", \n",
    "                    \"TIME OCC\": \"Time Occured\", \"AREA NAME\": \"Area Name\", \n",
    "                    \"Crm Cd Desc\": \"Crime Description\", \"Vict Age\": \"Victim Age\",\n",
    "                    \"Vict Sex\": \"Victim Sex\", \"Vict Descent\": \"Victim Descent\", \n",
    "                    \"Premis Desc\": \"Premis Description\", \"Weapon Desc\": \"Weapon Description\", \n",
    "                    \"LOCATION\": \"Location\", \"LAT\": \"Latitude\", \"LON\": \"Longitude\"})"
   ]
  },
  {
   "cell_type": "code",
   "execution_count": 7,
   "metadata": {},
   "outputs": [],
   "source": [
    "# disable SettingWithCopyWarning\n",
    "pd.options.mode.chained_assignment = None\n",
    "\n",
    "# convert first 3 columns to datetime\n",
    "df[[\"Date Reported\", \"Date Occured\"]] = df[[\"Date Reported\", \"Date Occured\"]].apply(pd.to_datetime)"
   ]
  },
  {
   "cell_type": "code",
   "execution_count": 8,
   "metadata": {},
   "outputs": [],
   "source": [
    "# relabel Victim Descent column strings\n",
    "df[\"Victim Descent\"] = df['Victim Descent'].str.replace('A', 'Other Asian')\n",
    "df[\"Victim Descent\"] = df['Victim Descent'].str.replace('B', 'Black')\n",
    "df[\"Victim Descent\"] = df['Victim Descent'].str.replace('C', 'Chinese')\n",
    "df[\"Victim Descent\"] = df['Victim Descent'].str.replace('D', 'Cambodian')\n",
    "df[\"Victim Descent\"] = df['Victim Descent'].str.replace('F', 'Filipino')\n",
    "df[\"Victim Descent\"] = df['Victim Descent'].str.replace('G', 'Guamanian')\n",
    "df[\"Victim Descent\"] = df['Victim Descent'].str.replace('H', 'Hispanic/Latin/Mexican')\n",
    "df[\"Victim Descent\"] = df['Victim Descent'].str.replace('I', 'American Indian/Alaskan Native')\n",
    "df[\"Victim Descent\"] = df['Victim Descent'].str.replace('J', 'Japanese')\n",
    "df[\"Victim Descent\"] = df['Victim Descent'].str.replace('K', 'Korean')\n",
    "df[\"Victim Descent\"] = df['Victim Descent'].str.replace('L', 'Laotian')\n",
    "df[\"Victim Descent\"] = df['Victim Descent'].str.replace('O', 'Other')\n",
    "df[\"Victim Descent\"] = df['Victim Descent'].str.replace('P', 'Pacific Islander')\n",
    "df[\"Victim Descent\"] = df['Victim Descent'].str.replace('S', 'Samoan')\n",
    "df[\"Victim Descent\"] = df['Victim Descent'].str.replace('U', 'Hawaiian')\n",
    "df[\"Victim Descent\"] = df['Victim Descent'].str.replace('V', 'Vietnamese')\n",
    "df[\"Victim Descent\"] = df['Victim Descent'].str.replace('W', 'White')\n",
    "df[\"Victim Descent\"] = df['Victim Descent'].str.replace('Z', 'Asian Indian')\n",
    "df[\"Victim Descent\"] = df['Victim Descent'].str.replace('X', 'Unknown')\n",
    "\n",
    "# relabel Victim Sex coulmn strings \n",
    "df[\"Victim Sex\"] = df['Victim Sex'].str.replace('M', 'Male')\n",
    "df[\"Victim Sex\"] = df['Victim Sex'].str.replace('F', 'Female')\n",
    "df[\"Victim Sex\"] = df['Victim Sex'].str.replace('X', 'Other')\n",
    "df[\"Victim Sex\"] = df['Victim Sex'].str.replace('H', 'Other')"
   ]
  },
  {
   "cell_type": "code",
   "execution_count": 9,
   "metadata": {},
   "outputs": [],
   "source": [
    "# drop duplicates \n",
    "df = df.drop_duplicates()"
   ]
  },
  {
   "cell_type": "code",
   "execution_count": 10,
   "metadata": {},
   "outputs": [],
   "source": [
    "# sort dataframe by Date Occured\n",
    "df = df.sort_values(by=\"Date Occured\")"
   ]
  },
  {
   "cell_type": "markdown",
   "metadata": {},
   "source": [
    "# Data Analysis/Visualization"
   ]
  },
  {
   "cell_type": "markdown",
   "metadata": {},
   "source": [
    "## What are the chances of becoming a crime victim in the city of LA in the next year? \n",
    "\n",
    "    - Any type of crime incident"
   ]
  },
  {
   "cell_type": "code",
   "execution_count": 11,
   "metadata": {},
   "outputs": [],
   "source": [
    "# convert date column to datetime\n",
    "df['Date Occured'] = pd.to_datetime(df['Date Occured'])\n",
    "\n",
    "# set time stamp\n",
    "start_date = '01-01-2021'\n",
    "end_date = '12-31-2021'\n",
    "\n",
    "# create df with 2010 crime \n",
    "mask = (df['Date Occured'] >= start_date) & (df['Date Occured'] <= end_date)\n",
    "df_2021 = df.loc[mask]\n",
    "df_2021 = df_2021.sort_values(by=\"Date Occured\")"
   ]
  },
  {
   "cell_type": "code",
   "execution_count": 12,
   "metadata": {},
   "outputs": [
    {
     "name": "stdout",
     "output_type": "stream",
     "text": [
      "5%\n"
     ]
    }
   ],
   "source": [
    "# calculate probability of becoming a crime victim in the city of LA in the next year\n",
    "occurences = len(df_2021)\n",
    "population = 3849297 # July 1st 2021 population (Based on government census)\n",
    "probability = occurences/population\n",
    "print(\"{0:.0%}\".format(probability)) # 1 in 20 chance "
   ]
  },
  {
   "cell_type": "code",
   "execution_count": 13,
   "metadata": {},
   "outputs": [
    {
     "data": {
      "image/png": "[encoded data removed]",
      "text/plain": [
       "<Waffle size 432x288 with 1 Axes>"
      ]
     },
     "metadata": {
      "needs_background": "light"
     },
     "output_type": "display_data"
    }
   ],
   "source": [
    "# display visual\n",
    "fig = plt.figure(FigureClass=Waffle,\n",
    "                rows=2, \n",
    "                columns=10,\n",
    "                values=[1, 20], \n",
    "                icons=\"person\",\n",
    "                font_size=35,\n",
    "                colors=['red', 'black'])"
   ]
  },
  {
   "cell_type": "markdown",
   "metadata": {},
   "source": [
    "There is an approximate 1 in 20 chance of becoming a crime victim in the city of LA in the next year.\n",
    "\n",
    "    - Dataset Caveats\n",
    "\n",
    "            1. An individual may have been a victim more than once\n",
    "            2. Some crimes are not reported\n",
    "            3. Some crimes involve more than one victim\n",
    "            4. Some crimes may have no victims\n",
    "            5. Population data is an estimate\n"
   ]
  },
  {
   "cell_type": "markdown",
   "metadata": {},
   "source": [
    "## What are the chances of being robbed in the city of LA in the next year?"
   ]
  },
  {
   "cell_type": "code",
   "execution_count": 14,
   "metadata": {},
   "outputs": [
    {
     "name": "stdout",
     "output_type": "stream",
     "text": [
      "0.220560%\n"
     ]
    }
   ],
   "source": [
    "# select rows from crime description column that contain \"ROBBERY\" (Includes attempted robbery)\n",
    "robbery = df_2021[df_2021[\"Crime Description\"].str.contains(\"ROBBERY\")]\n",
    "\n",
    "# calculate probability of being robbed in the city of LA in the next year\n",
    "occurences = len(robbery)\n",
    "probability = occurences/population\n",
    "print(\"{0:%}\".format(probability)) # 2 in 1,000 chance "
   ]
  },
  {
   "cell_type": "code",
   "execution_count": 15,
   "metadata": {},
   "outputs": [
    {
     "data": {
      "image/png": "[encoded data removed]",
      "text/plain": [
       "<Waffle size 432x288 with 1 Axes>"
      ]
     },
     "metadata": {
      "needs_background": "light"
     },
     "output_type": "display_data"
    }
   ],
   "source": [
    "# display visual\n",
    "fig = plt.figure(FigureClass=Waffle,\n",
    "                rows=10, \n",
    "                columns=100,\n",
    "                values=[2, 1000], \n",
    "                icons=\"circle-dot\",\n",
    "                font_size=1,\n",
    "                colors=['red', 'black'])"
   ]
  },
  {
   "cell_type": "markdown",
   "metadata": {},
   "source": [
    "There is an approximate 2 in 1,000 chance of being robbed in the city of LA in the next year\n",
    "\n",
    "    - Dataset Caveats\n",
    "\n",
    "            1. An individual may have been robbed more than once\n",
    "            2. Some robberies may have not been reported\n",
    "            3. Some robberies involve more than one victim\n",
    "            4. Dataset includes attempted robberies \n",
    "            5. Population data is an estimate"
   ]
  },
  {
   "cell_type": "markdown",
   "metadata": {},
   "source": [
    "## What are the chances of getting your vehicle stolen in the city of LA in the next year?"
   ]
  },
  {
   "cell_type": "code",
   "execution_count": 16,
   "metadata": {},
   "outputs": [
    {
     "name": "stdout",
     "output_type": "stream",
     "text": [
      "0.608397%\n"
     ]
    }
   ],
   "source": [
    "# select rows from crime description column that contain \"VEHICLE - STOLEN\"\n",
    "stolen_vehicle = df_2021[df_2021[\"Crime Description\"].str.contains(\"VEHICLE - STOLEN\")]\n",
    "\n",
    "# calculate probability of getting your vehicle stolen in the city of LA in the next year \n",
    "occurences = len(stolen_vehicle)\n",
    "probability = occurences/population\n",
    "print(\"{0:%}\".format(probability)) # 6 in 1,000 chance "
   ]
  },
  {
   "cell_type": "code",
   "execution_count": 17,
   "metadata": {},
   "outputs": [
    {
     "data": {
      "image/png": "[encoded data removed]",
      "text/plain": [
       "<Waffle size 432x288 with 1 Axes>"
      ]
     },
     "metadata": {
      "needs_background": "light"
     },
     "output_type": "display_data"
    }
   ],
   "source": [
    "# display visual\n",
    "fig = plt.figure(FigureClass=Waffle,\n",
    "                rows=10, \n",
    "                columns=100,\n",
    "                values=[6, 1000], \n",
    "                icons=\"circle-dot\",\n",
    "                font_size=1,\n",
    "                colors=['red', 'black'])"
   ]
  },
  {
   "cell_type": "markdown",
   "metadata": {},
   "source": [
    "There is an approximate 6 in 1,000 chance of getting your vehicle stolen in the city of LA in the next year\n",
    "\n",
    "    - Dataset Caveats\n",
    "\n",
    "            1. An individual may have had their vehicle stolen more than once\n",
    "            2. Some incidents may have not been reported (Highly unlikely)\n",
    "            3. Some incidents involve more than one victim\n",
    "            4. Population data is an estimate"
   ]
  },
  {
   "cell_type": "markdown",
   "metadata": {},
   "source": [
    "## What are the chances of being assaulted in the city of LA in the next year?"
   ]
  },
  {
   "cell_type": "code",
   "execution_count": 18,
   "metadata": {},
   "outputs": [
    {
     "name": "stdout",
     "output_type": "stream",
     "text": [
      "0.418804%\n"
     ]
    }
   ],
   "source": [
    "# select rows from crime description column that contain \"BATTERY - SIMPLE ASSAULT\" \n",
    "assualted = df_2021[df_2021[\"Crime Description\"].str.contains(\"BATTERY - SIMPLE ASSAULT\")]\n",
    "\n",
    "# calculate probability of being assaulted in the city of LA in the next year\n",
    "occurences = len(assualted)\n",
    "probability = occurences/population\n",
    "print(\"{0:%}\".format(probability)) # 4 in 1,000 chance "
   ]
  },
  {
   "cell_type": "code",
   "execution_count": 19,
   "metadata": {},
   "outputs": [
    {
     "data": {
      "image/png": "[encoded data removed]",
      "text/plain": [
       "<Waffle size 432x288 with 1 Axes>"
      ]
     },
     "metadata": {
      "needs_background": "light"
     },
     "output_type": "display_data"
    }
   ],
   "source": [
    "# display visual\n",
    "fig = plt.figure(FigureClass=Waffle,\n",
    "                rows=10, \n",
    "                columns=100,\n",
    "                values=[4, 1000], \n",
    "                icons=\"circle-dot\",\n",
    "                font_size=1,\n",
    "                colors=['red', 'black'])"
   ]
  },
  {
   "cell_type": "markdown",
   "metadata": {},
   "source": [
    "There is an approximate 4 in 1,000 chance of being assaulted in the city of LA in the next year\n",
    "\n",
    "    - Dataset Caveats\n",
    "\n",
    "            1. An individual may have been assaulted more than once\n",
    "            2. Some incidents may have not been reported \n",
    "            3. Some incidents involve more than one victim\n",
    "            4. Population data is an estimate"
   ]
  },
  {
   "cell_type": "markdown",
   "metadata": {},
   "source": [
    "## What are the chances of being murdered in the city of LA in the next year?"
   ]
  },
  {
   "cell_type": "code",
   "execution_count": 20,
   "metadata": {},
   "outputs": [
    {
     "name": "stdout",
     "output_type": "stream",
     "text": [
      "0.010340%\n"
     ]
    }
   ],
   "source": [
    "# select rows from crime description column that contain \"CRIMINAL HOMICIDE\" \n",
    "murdered = df_2021[df_2021[\"Crime Description\"].str.contains(\"CRIMINAL HOMICIDE\")]\n",
    "\n",
    "# calculate probability of being murdered in the city of LA in the next year\n",
    "occurences = len(murdered)\n",
    "probability = occurences/population\n",
    "print(\"{0:%}\".format(probability)) # 1 in 10,000 chance "
   ]
  },
  {
   "cell_type": "code",
   "execution_count": 21,
   "metadata": {},
   "outputs": [
    {
     "data": {
      "image/png": "[encoded data removed]",
      "text/plain": [
       "<Waffle size 432x288 with 1 Axes>"
      ]
     },
     "metadata": {
      "needs_background": "light"
     },
     "output_type": "display_data"
    }
   ],
   "source": [
    "# display visual\n",
    "fig = plt.figure(FigureClass=Waffle,\n",
    "                rows=100, \n",
    "                columns=100,\n",
    "                values=[1, 10000], \n",
    "                icons=\"circle-dot\",\n",
    "                font_size=1,\n",
    "                colors=['red', 'black'])"
   ]
  },
  {
   "cell_type": "markdown",
   "metadata": {},
   "source": [
    "There is an approximate 1 in 10,000 chance of being murdered in the city of LA in the next year\n",
    "\n",
    "    - Dataset Caveats\n",
    "\n",
    "            1. Some incidents may have not been reported \n",
    "            2. Some incidents involve more than one victim\n",
    "            3. Population data is an estimate"
   ]
  },
  {
   "cell_type": "code",
   "execution_count": 2,
   "metadata": {},
   "outputs": [
    {
     "data": {
      "image/png": "[encoded data removed]",
      "text/plain": [
       "<Waffle size 432x288 with 1 Axes>"
      ]
     },
     "metadata": {
      "needs_background": "light"
     },
     "output_type": "display_data"
    }
   ],
   "source": [
    "# display visual\n",
    "fig = plt.figure(FigureClass=Waffle,\n",
    "                rows=2, \n",
    "                columns=5,\n",
    "                values=[15, 10], \n",
    "                icons=\"person\",\n",
    "                font_size=40,\n",
    "                colors=['red', 'black'])"
   ]
  }
 ],
 "metadata": {
  "interpreter": {
   "hash": "65541be30be1d900a0661e901467c303fe6d0916b9adec057496aee41d153043"
  },
  "kernelspec": {
   "display_name": "Python 3.9.5 64-bit ('base': conda)",
   "name": "python3"
  },
  "language_info": {
   "codemirror_mode": {
    "name": "ipython",
    "version": 3
   },
   "file_extension": ".py",
   "mimetype": "text/x-python",
   "name": "python",
   "nbconvert_exporter": "python",
   "pygments_lexer": "ipython3",
   "version": "3.9.5"
  },
  "orig_nbformat": 4
 },
 "nbformat": 4,
 "nbformat_minor": 2
}
